{
 "cells": [
  {
   "cell_type": "code",
   "execution_count": 3,
   "metadata": {},
   "outputs": [
    {
     "name": "stdout",
     "output_type": "stream",
     "text": [
      "   usuario_id  producto_id  cantidad  precio  producto_comprado\n",
      "0           1          101         2    20.5                  1\n",
      "1           2          102         1    15.0                  0\n",
      "2           3          103         3     7.5                  1\n",
      "3           4          104         5    12.0                  0\n",
      "4           5          105         2    25.0                  1\n",
      "   usuario_id  nombre  edad genero\n",
      "0           1    Juan    28      M\n",
      "1           2   Maria    34      F\n",
      "2           3  Carlos    22      M\n",
      "3           4     Ana    29      F\n",
      "4           5   Pedro    40      M\n",
      "       usuario_id  producto_id   cantidad     precio  producto_comprado\n",
      "count    10.00000     10.00000  10.000000  10.000000          10.000000\n",
      "mean      5.50000    105.50000   2.400000  19.550000           0.500000\n",
      "std       3.02765      3.02765   1.349897   8.842605           0.527046\n",
      "min       1.00000    101.00000   1.000000   7.500000           0.000000\n",
      "25%       3.25000    103.25000   1.250000  12.750000           0.000000\n",
      "50%       5.50000    105.50000   2.000000  19.250000           0.500000\n",
      "75%       7.75000    107.75000   3.000000  24.375000           1.000000\n",
      "max      10.00000    110.00000   5.000000  35.000000           1.000000\n",
      "       usuario_id       edad\n",
      "count    10.00000  10.000000\n",
      "mean      5.50000  30.100000\n",
      "std       3.02765   5.216427\n",
      "min       1.00000  22.000000\n",
      "25%       3.25000  27.250000\n",
      "50%       5.50000  29.500000\n",
      "75%       7.75000  33.250000\n",
      "max      10.00000  40.000000\n"
     ]
    }
   ],
   "source": [
    "# ExploracionDatos.ipynb\n",
    "import pandas as pd\n",
    "\n",
    "# Cargar datos\n",
    "datos_ventas = pd.read_csv('../data/ventas.csv')\n",
    "datos_usuarios = pd.read_csv('../data/usuarios.csv')\n",
    "\n",
    "# Exploración de datos\n",
    "print(datos_ventas.head())\n",
    "print(datos_usuarios.head())\n",
    "\n",
    "# Descripción de datos\n",
    "print(datos_ventas.describe())\n",
    "print(datos_usuarios.describe())"
   ]
  }
 ],
 "metadata": {
  "kernelspec": {
   "display_name": ".venv",
   "language": "python",
   "name": "python3"
  },
  "language_info": {
   "codemirror_mode": {
    "name": "ipython",
    "version": 3
   },
   "file_extension": ".py",
   "mimetype": "text/x-python",
   "name": "python",
   "nbconvert_exporter": "python",
   "pygments_lexer": "ipython3",
   "version": "3.10.9"
  }
 },
 "nbformat": 4,
 "nbformat_minor": 2
}
