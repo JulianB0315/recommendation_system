{
 "cells": [
  {
   "cell_type": "code",
   "execution_count": null,
   "metadata": {
    "vscode": {
     "languageId": "plaintext"
    }
   },
   "outputs": [],
   "source": [
    "# VisualizacionDatos.ipynb\n",
    "import matplotlib.pyplot as plt\n",
    "import seaborn as sns\n",
    "import pandas as pd\n",
    "\n",
    "# Cargar datos\n",
    "datos = pd.read_csv('../data/ventas.csv')\n",
    "\n",
    "# Histograma con Matplotlib\n",
    "plt.hist(datos['cantidad'], bins=10)\n",
    "plt.xlabel('Cantidad')\n",
    "plt.ylabel('Frecuencia')\n",
    "plt.title('Histograma de Cantidad')\n",
    "plt.show()\n",
    "\n",
    "# Gráfico de dispersión con Seaborn\n",
    "sns.scatterplot(x='cantidad', y='precio', data=datos)\n",
    "plt.xlabel('Cantidad')\n",
    "plt.ylabel('Precio')\n",
    "plt.title('Gráfico de Dispersión de Cantidad vs Precio')\n",
    "plt.show()"
   ]
  }
 ],
 "metadata": {
  "language_info": {
   "name": "python"
  }
 },
 "nbformat": 4,
 "nbformat_minor": 2
}
